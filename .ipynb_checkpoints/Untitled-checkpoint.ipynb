{
 "cells": [
  {
   "cell_type": "code",
   "execution_count": 4,
   "metadata": {},
   "outputs": [],
   "source": [
    "import pandas as pd"
   ]
  },
  {
   "cell_type": "code",
   "execution_count": 5,
   "metadata": {},
   "outputs": [],
   "source": [
    "df = pd.read_csv('train.csv')\n"
   ]
  },
  {
   "cell_type": "code",
   "execution_count": 6,
   "metadata": {},
   "outputs": [],
   "source": [
    "df = df.fillna(0)"
   ]
  },
  {
   "cell_type": "code",
   "execution_count": 7,
   "metadata": {},
   "outputs": [
    {
     "data": {
      "text/plain": [
       "0                   Agricultura e veterinária\n",
       "1        Ciências sociais, negócios e direito\n",
       "2           Engenharia, produção e construção\n",
       "3        Ciências sociais, negócios e direito\n",
       "4                         Humanidades e artes\n",
       "5                                    Educação\n",
       "6                   Agricultura e veterinária\n",
       "7           Engenharia, produção e construção\n",
       "8                         Humanidades e artes\n",
       "9           Engenharia, produção e construção\n",
       "10          Engenharia, produção e construção\n",
       "11                                   Educação\n",
       "12          Engenharia, produção e construção\n",
       "13          Engenharia, produção e construção\n",
       "14                                   Educação\n",
       "15       Ciências sociais, negócios e direito\n",
       "16          Ciências, matemática e computação\n",
       "17       Ciências sociais, negócios e direito\n",
       "18                                   Educação\n",
       "19          Engenharia, produção e construção\n",
       "20          Engenharia, produção e construção\n",
       "21                                   Educação\n",
       "22                                   Educação\n",
       "23                                   Educação\n",
       "24                  Agricultura e veterinária\n",
       "25       Ciências sociais, negócios e direito\n",
       "26       Ciências sociais, negócios e direito\n",
       "27          Engenharia, produção e construção\n",
       "28                   Saúde e bem estar social\n",
       "29       Ciências sociais, negócios e direito\n",
       "                         ...                 \n",
       "62322    Ciências sociais, negócios e direito\n",
       "62323                                Educação\n",
       "62324       Engenharia, produção e construção\n",
       "62325       Engenharia, produção e construção\n",
       "62326                                Educação\n",
       "62327                                Educação\n",
       "62328                                Educação\n",
       "62329       Engenharia, produção e construção\n",
       "62330       Ciências, matemática e computação\n",
       "62331       Engenharia, produção e construção\n",
       "62332                Saúde e bem estar social\n",
       "62333    Ciências sociais, negócios e direito\n",
       "62334       Engenharia, produção e construção\n",
       "62335       Engenharia, produção e construção\n",
       "62336    Ciências sociais, negócios e direito\n",
       "62337                                Educação\n",
       "62338       Engenharia, produção e construção\n",
       "62339       Engenharia, produção e construção\n",
       "62340                                Educação\n",
       "62341       Engenharia, produção e construção\n",
       "62342    Ciências sociais, negócios e direito\n",
       "62343    Ciências sociais, negócios e direito\n",
       "62344    Ciências sociais, negócios e direito\n",
       "62345                     Humanidades e artes\n",
       "62346                                Educação\n",
       "62347       Engenharia, produção e construção\n",
       "62348    Ciências sociais, negócios e direito\n",
       "62349       Ciências, matemática e computação\n",
       "62350                Saúde e bem estar social\n",
       "62351    Ciências sociais, negócios e direito\n",
       "Name: NO_OCDE_AREA_GERAL, Length: 62352, dtype: object"
      ]
     },
     "execution_count": 7,
     "metadata": {},
     "output_type": "execute_result"
    }
   ],
   "source": [
    "df['NO_OCDE_AREA_GERAL']"
   ]
  },
  {
   "cell_type": "code",
   "execution_count": 8,
   "metadata": {},
   "outputs": [],
   "source": [
    "from sklearn import preprocessing"
   ]
  },
  {
   "cell_type": "code",
   "execution_count": 9,
   "metadata": {},
   "outputs": [],
   "source": [
    "le = preprocessing.LabelEncoder()"
   ]
  },
  {
   "cell_type": "code",
   "execution_count": 10,
   "metadata": {},
   "outputs": [
    {
     "data": {
      "text/plain": [
       "LabelEncoder()"
      ]
     },
     "execution_count": 10,
     "metadata": {},
     "output_type": "execute_result"
    }
   ],
   "source": [
    "le.fit(df['NO_OCDE_AREA_GERAL'])"
   ]
  },
  {
   "cell_type": "code",
   "execution_count": 11,
   "metadata": {},
   "outputs": [
    {
     "data": {
      "text/plain": [
       "array(['Agricultura e veterinária',\n",
       "       'Ciências sociais, negócios e direito',\n",
       "       'Ciências, matemática e computação', 'Educação',\n",
       "       'Engenharia, produção e construção', 'Humanidades e artes',\n",
       "       'Saúde e bem estar social', 'Serviços'], dtype=object)"
      ]
     },
     "execution_count": 11,
     "metadata": {},
     "output_type": "execute_result"
    }
   ],
   "source": [
    "le.classes_"
   ]
  },
  {
   "cell_type": "code",
   "execution_count": 12,
   "metadata": {},
   "outputs": [],
   "source": [
    "df['NO_OCDE_AREA_GERAL'] = le.transform(df['NO_OCDE_AREA_GERAL'])"
   ]
  },
  {
   "cell_type": "code",
   "execution_count": 13,
   "metadata": {},
   "outputs": [
    {
     "data": {
      "text/plain": [
       "0        0\n",
       "1        1\n",
       "2        4\n",
       "3        1\n",
       "4        5\n",
       "5        3\n",
       "6        0\n",
       "7        4\n",
       "8        5\n",
       "9        4\n",
       "10       4\n",
       "11       3\n",
       "12       4\n",
       "13       4\n",
       "14       3\n",
       "15       1\n",
       "16       2\n",
       "17       1\n",
       "18       3\n",
       "19       4\n",
       "20       4\n",
       "21       3\n",
       "22       3\n",
       "23       3\n",
       "24       0\n",
       "25       1\n",
       "26       1\n",
       "27       4\n",
       "28       6\n",
       "29       1\n",
       "        ..\n",
       "62322    1\n",
       "62323    3\n",
       "62324    4\n",
       "62325    4\n",
       "62326    3\n",
       "62327    3\n",
       "62328    3\n",
       "62329    4\n",
       "62330    2\n",
       "62331    4\n",
       "62332    6\n",
       "62333    1\n",
       "62334    4\n",
       "62335    4\n",
       "62336    1\n",
       "62337    3\n",
       "62338    4\n",
       "62339    4\n",
       "62340    3\n",
       "62341    4\n",
       "62342    1\n",
       "62343    1\n",
       "62344    1\n",
       "62345    5\n",
       "62346    3\n",
       "62347    4\n",
       "62348    1\n",
       "62349    2\n",
       "62350    6\n",
       "62351    1\n",
       "Name: NO_OCDE_AREA_GERAL, Length: 62352, dtype: int64"
      ]
     },
     "execution_count": 13,
     "metadata": {},
     "output_type": "execute_result"
    }
   ],
   "source": [
    "df['NO_OCDE_AREA_GERAL']"
   ]
  },
  {
   "cell_type": "code",
   "execution_count": 14,
   "metadata": {},
   "outputs": [],
   "source": [
    "Y_df = df['NO_OCDE_AREA_GERAL']"
   ]
  },
  {
   "cell_type": "code",
   "execution_count": 15,
   "metadata": {},
   "outputs": [],
   "source": [
    "X_df = pd.get_dummies(df[['CO_CATEGORIA_ADMINISTRATIVA', 'CO_ORGANIZACAO_ACADEMICA', 'CO_TURNO_ALUNO', 'CO_GRAU_ACADEMICO', 'CO_MODALIDADE_ENSINO', 'CO_COR_RACA_ALUNO','IN_FINANC_ESTUDANTIL','IN_ING_CONVENIO_PECG', 'IN_SEXO_ALUNO', 'IN_MOBILIDADE_ACADEMICA']])"
   ]
  },
  {
   "cell_type": "code",
   "execution_count": 16,
   "metadata": {},
   "outputs": [],
   "source": [
    "X = X_df.values"
   ]
  },
  {
   "cell_type": "code",
   "execution_count": 17,
   "metadata": {},
   "outputs": [],
   "source": [
    "Y = Y_df.values"
   ]
  },
  {
   "cell_type": "code",
   "execution_count": 18,
   "metadata": {},
   "outputs": [],
   "source": [
    "from sklearn.ensemble import ExtraTreesRegressor"
   ]
  },
  {
   "cell_type": "code",
   "execution_count": 19,
   "metadata": {},
   "outputs": [],
   "source": [
    "modelo = ExtraTreesRegressor(max_features=int)"
   ]
  },
  {
   "cell_type": "code",
   "execution_count": 32,
   "metadata": {},
   "outputs": [
    {
     "data": {
      "text/plain": [
       "ExtraTreesRegressor(bootstrap=False, criterion='mse', max_depth=None,\n",
       "          max_features='auto', max_leaf_nodes=None,\n",
       "          min_impurity_decrease=0.0, min_impurity_split=None,\n",
       "          min_samples_leaf=1, min_samples_split=2,\n",
       "          min_weight_fraction_leaf=0.0, n_estimators=10, n_jobs=1,\n",
       "          oob_score=False, random_state=None, verbose=0, warm_start=False)"
      ]
     },
     "execution_count": 32,
     "metadata": {},
     "output_type": "execute_result"
    }
   ],
   "source": [
    "modelo.fit(X, Y)"
   ]
  },
  {
   "cell_type": "code",
   "execution_count": 33,
   "metadata": {},
   "outputs": [],
   "source": [
    "dt = pd.read_csv('test.csv')"
   ]
  },
  {
   "cell_type": "code",
   "execution_count": 34,
   "metadata": {},
   "outputs": [],
   "source": [
    "dt = dt.fillna(0)"
   ]
  },
  {
   "cell_type": "code",
   "execution_count": 35,
   "metadata": {},
   "outputs": [],
   "source": [
    "T_df = pd.get_dummies(dt[['CO_CATEGORIA_ADMINISTRATIVA', 'CO_ORGANIZACAO_ACADEMICA', 'CO_TURNO_ALUNO', 'CO_GRAU_ACADEMICO', 'CO_MODALIDADE_ENSINO', 'CO_COR_RACA_ALUNO','IN_FINANC_ESTUDANTIL','IN_ING_CONVENIO_PECG', 'IN_SEXO_ALUNO', 'IN_MOBILIDADE_ACADEMICA']])"
   ]
  },
  {
   "cell_type": "code",
   "execution_count": 36,
   "metadata": {},
   "outputs": [],
   "source": [
    "resultado = modelo.predict(T_df.values)"
   ]
  },
  {
   "cell_type": "code",
   "execution_count": 37,
   "metadata": {},
   "outputs": [
    {
     "data": {
      "text/plain": [
       "array([3.        , 3.        , 3.        , ..., 3.28527607, 2.59289617,\n",
       "       3.34375   ])"
      ]
     },
     "execution_count": 37,
     "metadata": {},
     "output_type": "execute_result"
    }
   ],
   "source": [
    "resultado"
   ]
  },
  {
   "cell_type": "code",
   "execution_count": 26,
   "metadata": {},
   "outputs": [
    {
     "ename": "ValueError",
     "evalue": "The truth value of an array with more than one element is ambiguous. Use a.any() or a.all()",
     "output_type": "error",
     "traceback": [
      "\u001b[1;31m---------------------------------------------------------------------------\u001b[0m",
      "\u001b[1;31mValueError\u001b[0m                                Traceback (most recent call last)",
      "\u001b[1;32m<ipython-input-26-38a51c622126>\u001b[0m in \u001b[0;36m<module>\u001b[1;34m()\u001b[0m\n\u001b[1;32m----> 1\u001b[1;33m \u001b[0mresultado\u001b[0m \u001b[1;33m=\u001b[0m \u001b[0mle\u001b[0m\u001b[1;33m.\u001b[0m\u001b[0minverse_transform\u001b[0m\u001b[1;33m(\u001b[0m\u001b[0mresultado\u001b[0m\u001b[1;33m)\u001b[0m\u001b[1;33m\u001b[0m\u001b[0m\n\u001b[0m",
      "\u001b[1;32mC:\\ProgramData\\Anaconda3\\lib\\site-packages\\sklearn\\preprocessing\\label.py\u001b[0m in \u001b[0;36minverse_transform\u001b[1;34m(self, y)\u001b[0m\n\u001b[0;32m    149\u001b[0m \u001b[1;33m\u001b[0m\u001b[0m\n\u001b[0;32m    150\u001b[0m         \u001b[0mdiff\u001b[0m \u001b[1;33m=\u001b[0m \u001b[0mnp\u001b[0m\u001b[1;33m.\u001b[0m\u001b[0msetdiff1d\u001b[0m\u001b[1;33m(\u001b[0m\u001b[0my\u001b[0m\u001b[1;33m,\u001b[0m \u001b[0mnp\u001b[0m\u001b[1;33m.\u001b[0m\u001b[0marange\u001b[0m\u001b[1;33m(\u001b[0m\u001b[0mlen\u001b[0m\u001b[1;33m(\u001b[0m\u001b[0mself\u001b[0m\u001b[1;33m.\u001b[0m\u001b[0mclasses_\u001b[0m\u001b[1;33m)\u001b[0m\u001b[1;33m)\u001b[0m\u001b[1;33m)\u001b[0m\u001b[1;33m\u001b[0m\u001b[0m\n\u001b[1;32m--> 151\u001b[1;33m         \u001b[1;32mif\u001b[0m \u001b[0mdiff\u001b[0m\u001b[1;33m:\u001b[0m\u001b[1;33m\u001b[0m\u001b[0m\n\u001b[0m\u001b[0;32m    152\u001b[0m             \u001b[1;32mraise\u001b[0m \u001b[0mValueError\u001b[0m\u001b[1;33m(\u001b[0m\u001b[1;34m\"y contains new labels: %s\"\u001b[0m \u001b[1;33m%\u001b[0m \u001b[0mstr\u001b[0m\u001b[1;33m(\u001b[0m\u001b[0mdiff\u001b[0m\u001b[1;33m)\u001b[0m\u001b[1;33m)\u001b[0m\u001b[1;33m\u001b[0m\u001b[0m\n\u001b[0;32m    153\u001b[0m         \u001b[0my\u001b[0m \u001b[1;33m=\u001b[0m \u001b[0mnp\u001b[0m\u001b[1;33m.\u001b[0m\u001b[0masarray\u001b[0m\u001b[1;33m(\u001b[0m\u001b[0my\u001b[0m\u001b[1;33m)\u001b[0m\u001b[1;33m\u001b[0m\u001b[0m\n",
      "\u001b[1;31mValueError\u001b[0m: The truth value of an array with more than one element is ambiguous. Use a.any() or a.all()"
     ]
    }
   ],
   "source": [
    "resultado = le.inverse_transform(resultado)"
   ]
  },
  {
   "cell_type": "code",
   "execution_count": null,
   "metadata": {},
   "outputs": [],
   "source": [
    "resultado"
   ]
  },
  {
   "cell_type": "code",
   "execution_count": 27,
   "metadata": {},
   "outputs": [],
   "source": [
    "dt2 = pd.read_csv('test.csv')"
   ]
  },
  {
   "cell_type": "code",
   "execution_count": 28,
   "metadata": {},
   "outputs": [],
   "source": [
    "s = pd.DataFrame(dt2['index'])"
   ]
  },
  {
   "cell_type": "code",
   "execution_count": 29,
   "metadata": {},
   "outputs": [],
   "source": [
    "r = pd.DataFrame(resultado, columns=['NO_OCDE_AREA_GERAL'])"
   ]
  },
  {
   "cell_type": "code",
   "execution_count": 30,
   "metadata": {},
   "outputs": [],
   "source": [
    "saida = s.join(r)"
   ]
  },
  {
   "cell_type": "code",
   "execution_count": 31,
   "metadata": {},
   "outputs": [],
   "source": [
    "saida.to_csv('answer.csv', encoding='utf-8', index=False)"
   ]
  },
  {
   "cell_type": "code",
   "execution_count": null,
   "metadata": {},
   "outputs": [],
   "source": []
  }
 ],
 "metadata": {
  "kernelspec": {
   "display_name": "Python 3",
   "language": "python",
   "name": "python3"
  },
  "language_info": {
   "codemirror_mode": {
    "name": "ipython",
    "version": 3
   },
   "file_extension": ".py",
   "mimetype": "text/x-python",
   "name": "python",
   "nbconvert_exporter": "python",
   "pygments_lexer": "ipython3",
   "version": "3.6.5"
  }
 },
 "nbformat": 4,
 "nbformat_minor": 2
}
